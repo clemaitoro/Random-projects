{
 "cells": [
  {
   "cell_type": "code",
   "execution_count": 2,
   "metadata": {
    "collapsed": true
   },
   "outputs": [],
   "source": [
    "import tensorflow as tf\n",
    "from keras.preprocessing.image import ImageDataGenerator"
   ]
  },
  {
   "cell_type": "markdown",
   "source": [
    "Data Preprocessing"
   ],
   "metadata": {
    "collapsed": false
   }
  },
  {
   "cell_type": "markdown",
   "source": [
    "training set"
   ],
   "metadata": {
    "collapsed": false
   }
  },
  {
   "cell_type": "code",
   "execution_count": 3,
   "outputs": [
    {
     "name": "stdout",
     "output_type": "stream",
     "text": [
      "Found 557 images belonging to 2 classes.\n"
     ]
    }
   ],
   "source": [
    "from numpy.ma import indices\n",
    "\n",
    "train_datagen = ImageDataGenerator(\n",
    "    rescale = 1./255,\n",
    "    shear_range=0.2,\n",
    "    zoom_range=0.2,\n",
    "    horizontal_flip=True)\n",
    "\n",
    "train_set = train_datagen.flow_from_directory(\"train\",\n",
    "                                              target_size=(64, 64),\n",
    "                                              batch_size=32,\n",
    "                                              class_mode=\"categorical\")\n"
   ],
   "metadata": {
    "collapsed": false
   }
  },
  {
   "cell_type": "markdown",
   "source": [
    "test set"
   ],
   "metadata": {
    "collapsed": false
   }
  },
  {
   "cell_type": "code",
   "execution_count": 4,
   "outputs": [
    {
     "name": "stdout",
     "output_type": "stream",
     "text": [
      "Found 140 images belonging to 2 classes.\n"
     ]
    }
   ],
   "source": [
    "test_datagen = ImageDataGenerator(rescale=1./255)\n",
    "\n",
    "test_set = test_datagen.flow_from_directory(\"test\",\n",
    "                                                        target_size=(64, 64),\n",
    "                                                        batch_size=32,\n",
    "                                                        class_mode=\"categorical\")"
   ],
   "metadata": {
    "collapsed": false
   }
  },
  {
   "cell_type": "markdown",
   "source": [
    "Building convolutional neural network"
   ],
   "metadata": {
    "collapsed": false
   }
  },
  {
   "cell_type": "code",
   "execution_count": 5,
   "outputs": [],
   "source": [
    "cnn = tf.keras.models.Sequential()"
   ],
   "metadata": {
    "collapsed": false
   }
  },
  {
   "cell_type": "markdown",
   "source": [
    "1st Convolutional layer"
   ],
   "metadata": {
    "collapsed": false
   }
  },
  {
   "cell_type": "code",
   "execution_count": 6,
   "outputs": [],
   "source": [
    "cnn.add(tf.keras.layers.Conv2D(filters=32, kernel_size=3, activation=\"relu\", input_shape=[64, 64, 3]))"
   ],
   "metadata": {
    "collapsed": false
   }
  },
  {
   "cell_type": "markdown",
   "source": [
    "Pooling layer, applying max pooling"
   ],
   "metadata": {
    "collapsed": false
   }
  },
  {
   "cell_type": "code",
   "execution_count": 7,
   "outputs": [],
   "source": [
    "cnn.add(tf.keras.layers.MaxPool2D(pool_size=2, strides=2))"
   ],
   "metadata": {
    "collapsed": false
   }
  },
  {
   "cell_type": "markdown",
   "source": [
    "2nd Convolutional and pooling layer"
   ],
   "metadata": {
    "collapsed": false
   }
  },
  {
   "cell_type": "code",
   "execution_count": 8,
   "outputs": [],
   "source": [
    "cnn.add(tf.keras.layers.Conv2D(filters=32, kernel_size=3, activation=\"relu\"))\n",
    "\n",
    "cnn.add(tf.keras.layers.MaxPool2D(pool_size=2, strides=2))"
   ],
   "metadata": {
    "collapsed": false
   }
  },
  {
   "cell_type": "markdown",
   "source": [
    "Flattening layer"
   ],
   "metadata": {
    "collapsed": false
   }
  },
  {
   "cell_type": "code",
   "execution_count": 9,
   "outputs": [],
   "source": [
    "cnn.add(tf.keras.layers.Flatten())"
   ],
   "metadata": {
    "collapsed": false
   }
  },
  {
   "cell_type": "markdown",
   "source": [
    "Full connection layers"
   ],
   "metadata": {
    "collapsed": false
   }
  },
  {
   "cell_type": "code",
   "execution_count": 10,
   "outputs": [],
   "source": [
    "cnn.add(tf.keras.layers.Dense(units=128, activation=\"relu\"))"
   ],
   "metadata": {
    "collapsed": false
   }
  },
  {
   "cell_type": "markdown",
   "source": [
    "Output layer"
   ],
   "metadata": {
    "collapsed": false
   }
  },
  {
   "cell_type": "code",
   "execution_count": 11,
   "outputs": [],
   "source": [
    "cnn.add(tf.keras.layers.Dense(units=2, activation=\"softmax\"))"
   ],
   "metadata": {
    "collapsed": false
   }
  },
  {
   "cell_type": "markdown",
   "source": [
    "Compiling"
   ],
   "metadata": {
    "collapsed": false
   }
  },
  {
   "cell_type": "code",
   "execution_count": 12,
   "outputs": [],
   "source": [
    "cnn.compile(optimizer=\"adam\",loss=\"categorical_crossentropy\",\n",
    "                  metrics=[\"accuracy\"])"
   ],
   "metadata": {
    "collapsed": false
   }
  },
  {
   "cell_type": "markdown",
   "source": [
    "Training the model and evaluating"
   ],
   "metadata": {
    "collapsed": false
   }
  },
  {
   "cell_type": "code",
   "execution_count": 13,
   "outputs": [
    {
     "name": "stdout",
     "output_type": "stream",
     "text": [
      "Epoch 1/35\n",
      "18/18 [==============================] - 10s 464ms/step - loss: 0.8069 - accuracy: 0.5368 - val_loss: 0.6948 - val_accuracy: 0.4286\n",
      "Epoch 2/35\n",
      "18/18 [==============================] - 7s 405ms/step - loss: 0.6943 - accuracy: 0.5135 - val_loss: 0.6923 - val_accuracy: 0.4857\n",
      "Epoch 3/35\n",
      "18/18 [==============================] - 8s 425ms/step - loss: 0.6880 - accuracy: 0.5853 - val_loss: 0.6948 - val_accuracy: 0.5143\n",
      "Epoch 4/35\n",
      "18/18 [==============================] - 7s 403ms/step - loss: 0.6791 - accuracy: 0.5799 - val_loss: 0.6973 - val_accuracy: 0.5000\n",
      "Epoch 5/35\n",
      "18/18 [==============================] - 7s 397ms/step - loss: 0.6710 - accuracy: 0.5996 - val_loss: 0.6901 - val_accuracy: 0.5429\n",
      "Epoch 6/35\n",
      "18/18 [==============================] - 7s 396ms/step - loss: 0.6952 - accuracy: 0.5871 - val_loss: 0.6885 - val_accuracy: 0.5571\n",
      "Epoch 7/35\n",
      "18/18 [==============================] - 7s 399ms/step - loss: 0.6691 - accuracy: 0.6068 - val_loss: 0.6789 - val_accuracy: 0.5571\n",
      "Epoch 8/35\n",
      "18/18 [==============================] - 7s 381ms/step - loss: 0.6527 - accuracy: 0.6212 - val_loss: 0.6740 - val_accuracy: 0.6357\n",
      "Epoch 9/35\n",
      "18/18 [==============================] - 7s 388ms/step - loss: 0.6309 - accuracy: 0.6373 - val_loss: 0.6553 - val_accuracy: 0.6357\n",
      "Epoch 10/35\n",
      "18/18 [==============================] - 8s 433ms/step - loss: 0.5989 - accuracy: 0.6732 - val_loss: 0.6869 - val_accuracy: 0.6286\n",
      "Epoch 11/35\n",
      "18/18 [==============================] - 8s 418ms/step - loss: 0.5866 - accuracy: 0.7020 - val_loss: 0.6355 - val_accuracy: 0.6429\n",
      "Epoch 12/35\n",
      "18/18 [==============================] - 7s 391ms/step - loss: 0.5839 - accuracy: 0.7056 - val_loss: 0.6533 - val_accuracy: 0.6571\n",
      "Epoch 13/35\n",
      "18/18 [==============================] - 7s 406ms/step - loss: 0.5436 - accuracy: 0.7235 - val_loss: 0.6465 - val_accuracy: 0.6500\n",
      "Epoch 14/35\n",
      "18/18 [==============================] - 7s 399ms/step - loss: 0.5203 - accuracy: 0.7020 - val_loss: 0.6549 - val_accuracy: 0.6071\n",
      "Epoch 15/35\n",
      "18/18 [==============================] - 7s 406ms/step - loss: 0.5594 - accuracy: 0.7056 - val_loss: 0.6883 - val_accuracy: 0.5929\n",
      "Epoch 16/35\n",
      "18/18 [==============================] - 7s 387ms/step - loss: 0.5575 - accuracy: 0.7181 - val_loss: 0.6538 - val_accuracy: 0.6143\n",
      "Epoch 17/35\n",
      "18/18 [==============================] - 7s 404ms/step - loss: 0.5319 - accuracy: 0.7289 - val_loss: 0.6475 - val_accuracy: 0.6429\n",
      "Epoch 18/35\n",
      "18/18 [==============================] - 7s 399ms/step - loss: 0.4867 - accuracy: 0.7451 - val_loss: 0.6549 - val_accuracy: 0.6571\n",
      "Epoch 19/35\n",
      "18/18 [==============================] - 7s 404ms/step - loss: 0.4217 - accuracy: 0.8097 - val_loss: 0.6784 - val_accuracy: 0.6929\n",
      "Epoch 20/35\n",
      "18/18 [==============================] - 7s 408ms/step - loss: 0.4488 - accuracy: 0.7935 - val_loss: 0.6260 - val_accuracy: 0.6714\n",
      "Epoch 21/35\n",
      "18/18 [==============================] - 7s 399ms/step - loss: 0.4402 - accuracy: 0.7971 - val_loss: 0.6927 - val_accuracy: 0.7000\n",
      "Epoch 22/35\n",
      "18/18 [==============================] - 7s 399ms/step - loss: 0.4275 - accuracy: 0.8061 - val_loss: 0.6623 - val_accuracy: 0.6500\n",
      "Epoch 23/35\n",
      "18/18 [==============================] - 7s 398ms/step - loss: 0.3804 - accuracy: 0.8312 - val_loss: 0.7318 - val_accuracy: 0.6714\n",
      "Epoch 24/35\n",
      "18/18 [==============================] - 7s 400ms/step - loss: 0.3877 - accuracy: 0.8187 - val_loss: 0.7371 - val_accuracy: 0.6857\n",
      "Epoch 25/35\n",
      "18/18 [==============================] - 7s 393ms/step - loss: 0.3659 - accuracy: 0.8187 - val_loss: 0.7271 - val_accuracy: 0.6929\n",
      "Epoch 26/35\n",
      "18/18 [==============================] - 7s 395ms/step - loss: 0.3914 - accuracy: 0.8115 - val_loss: 0.6879 - val_accuracy: 0.6571\n",
      "Epoch 27/35\n",
      "18/18 [==============================] - 7s 410ms/step - loss: 0.3805 - accuracy: 0.8312 - val_loss: 0.7103 - val_accuracy: 0.6286\n",
      "Epoch 28/35\n",
      "18/18 [==============================] - 7s 411ms/step - loss: 0.3576 - accuracy: 0.8474 - val_loss: 0.6770 - val_accuracy: 0.6786\n",
      "Epoch 29/35\n",
      "18/18 [==============================] - 7s 392ms/step - loss: 0.3526 - accuracy: 0.8384 - val_loss: 0.6434 - val_accuracy: 0.6929\n",
      "Epoch 30/35\n",
      "18/18 [==============================] - 7s 408ms/step - loss: 0.3458 - accuracy: 0.8510 - val_loss: 0.7379 - val_accuracy: 0.7000\n",
      "Epoch 31/35\n",
      "18/18 [==============================] - 8s 447ms/step - loss: 0.3310 - accuracy: 0.8438 - val_loss: 0.7423 - val_accuracy: 0.6857\n",
      "Epoch 32/35\n",
      "18/18 [==============================] - 8s 422ms/step - loss: 0.3089 - accuracy: 0.8797 - val_loss: 0.7176 - val_accuracy: 0.7143\n",
      "Epoch 33/35\n",
      "18/18 [==============================] - 7s 395ms/step - loss: 0.2884 - accuracy: 0.8743 - val_loss: 0.7518 - val_accuracy: 0.6714\n",
      "Epoch 34/35\n",
      "18/18 [==============================] - 7s 394ms/step - loss: 0.2898 - accuracy: 0.8689 - val_loss: 0.8145 - val_accuracy: 0.6643\n",
      "Epoch 35/35\n",
      "18/18 [==============================] - 7s 390ms/step - loss: 0.2547 - accuracy: 0.9066 - val_loss: 0.8178 - val_accuracy: 0.6929\n"
     ]
    },
    {
     "data": {
      "text/plain": "<keras.callbacks.History at 0x14b3d711b40>"
     },
     "execution_count": 13,
     "metadata": {},
     "output_type": "execute_result"
    }
   ],
   "source": [
    "cnn.fit(x=train_set, validation_data=test_set ,epochs=35)"
   ],
   "metadata": {
    "collapsed": false
   }
  },
  {
   "cell_type": "markdown",
   "source": [
    "Making single prediction"
   ],
   "metadata": {
    "collapsed": false
   }
  },
  {
   "cell_type": "code",
   "execution_count": 21,
   "outputs": [
    {
     "name": "stdout",
     "output_type": "stream",
     "text": [
      "1/1 [==============================] - 0s 196ms/step\n"
     ]
    }
   ],
   "source": [
    "import cv2\n",
    "import numpy as np\n",
    "from keras.models import load_model\n",
    "from keras.preprocessing import image\n",
    "\n",
    "# Load the trained model\n",
    "\n",
    "\n",
    "# Load the image and resize it\n",
    "img = cv2.imread(\"Thinking-of-getting-a-cat.png\")\n",
    "orig_img = cv2.resize(img, (500, 500))\n",
    "\n",
    "# Preprocess the image\n",
    "img = cv2.resize(img, (64, 64))\n",
    "img = tf.keras.preprocessing.image.img_to_array(img)\n",
    "img = np.expand_dims(img, axis=0)\n",
    "img = img / 255.0\n",
    "\n",
    "# Predict the class of the image\n",
    "prediction = cnn.predict(img)\n",
    "class_names = ['cat', 'dog']\n",
    "class_idx = np.argmax(prediction)\n",
    "\n",
    "#display the class and probability\n",
    "if class_idx == 0:\n",
    "    color = (0, 255, 0)  # green\n",
    "else:\n",
    "    color = (0, 0, 255)  # red\n",
    "probability = prediction[0][class_idx] * 100\n",
    "text = f\"{class_names[class_idx]}: {probability:.2f}%\"\n",
    "cv2.putText(orig_img, text, (10, 30), cv2.FONT_HERSHEY_SIMPLEX, 1, color, 2)\n",
    "cv2.imshow(\"Prediction\", orig_img)\n",
    "cv2.waitKey(0)\n",
    "cv2.destroyAllWindows()\n"
   ],
   "metadata": {
    "collapsed": false
   }
  },
  {
   "cell_type": "markdown",
   "source": [],
   "metadata": {
    "collapsed": false
   }
  }
 ],
 "metadata": {
  "kernelspec": {
   "display_name": "Python 3",
   "language": "python",
   "name": "python3"
  },
  "language_info": {
   "codemirror_mode": {
    "name": "ipython",
    "version": 2
   },
   "file_extension": ".py",
   "mimetype": "text/x-python",
   "name": "python",
   "nbconvert_exporter": "python",
   "pygments_lexer": "ipython2",
   "version": "2.7.6"
  }
 },
 "nbformat": 4,
 "nbformat_minor": 0
}
